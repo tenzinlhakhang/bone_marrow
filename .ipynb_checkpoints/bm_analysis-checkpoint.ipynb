{
 "cells": [
  {
   "cell_type": "code",
   "execution_count": 2,
   "metadata": {
    "collapsed": false,
    "deletable": true,
    "editable": true
   },
   "outputs": [],
   "source": [
    "import pandas as pd\n",
    "import numpy as np\n",
    "from shapely import geometry\n",
    "%matplotlib inline\n",
    "import os\n",
    "from matplotlib import pyplot as plt\n",
    "from skimage.draw import circle\n",
    "\n"
   ]
  },
  {
   "cell_type": "code",
   "execution_count": 5,
   "metadata": {
    "collapsed": false,
    "deletable": true,
    "editable": true
   },
   "outputs": [],
   "source": [
    "# Read file in\n",
    "data = pd.read_table('files/MP-4_[64748,12998]_cell_seg_data.txt')\n",
    "\n",
    "# Split by phenotype\n",
    "CD34_df = data.loc[data['Phenotype'] == 'CD34']\n",
    "CD38_df = data.loc[data['Phenotype'] == 'CD38']\n",
    "CD90_df = data.loc[data['Phenotype'] == 'CD90']\n",
    "DAPI_df = data.loc[data['Phenotype'] == 'DAPI']"
   ]
  },
  {
   "cell_type": "code",
   "execution_count": 6,
   "metadata": {
    "collapsed": false,
    "deletable": true,
    "editable": true
   },
   "outputs": [],
   "source": [
    "# plot coordinates of cells in dataframe\n",
    "def plot_coord(x):\n",
    "    cell_x = x[['Cell X Position']]\n",
    "    cell_y = x[['Cell Y Position']]\n",
    "    phenotype = x[['Phenotype']]\n",
    "\n",
    "    x_list = cell_x['Cell X Position'].tolist()\n",
    "    y_list = cell_y['Cell Y Position'].tolist()\n",
    "    xy_list = zip(x_list,y_list)\n",
    "    \n",
    "    radii = [10]*len(x_list)\n",
    "    img = np.zeros((5000,3000), dtype=np.bool)\n",
    "\n",
    "    for x,y,z in zip(x_list,y_list,radii):\n",
    "        rr, cc = circle(x,y,z)\n",
    "        img[rr,cc] = 1\n",
    "    plt.imshow(img)"
   ]
  },
  {
   "cell_type": "code",
   "execution_count": 42,
   "metadata": {
    "collapsed": false,
    "deletable": true,
    "editable": true
   },
   "outputs": [],
   "source": [
    "point_1 = geometry.Point(2838, 16)\n",
    "point_2 = geometry.Point(3276, 17)"
   ]
  },
  {
   "cell_type": "code",
   "execution_count": 27,
   "metadata": {
    "collapsed": false,
    "deletable": true,
    "editable": true
   },
   "outputs": [],
   "source": [
    "distance = 400\n",
    "circle_buffer = point_1.buffer(distance)\n",
    "\n",
    "if point_2.within(circle_buffer):\n",
    "    print('point 2 is within the distance buffer of point 1')\n",
    "\n"
   ]
  },
  {
   "cell_type": "code",
   "execution_count": 107,
   "metadata": {
    "collapsed": false,
    "deletable": true,
    "editable": true
   },
   "outputs": [
    {
     "data": {
      "image/png": "[encoded data removed]",
      "text/plain": [
       "<matplotlib.figure.Figure at 0x10ea44f90>"
      ]
     },
     "metadata": {},
     "output_type": "display_data"
    }
   ],
   "source": [
    "plot_coord(CD34_df)\n"
   ]
  },
  {
   "cell_type": "code",
   "execution_count": 108,
   "metadata": {
    "collapsed": false,
    "deletable": true,
    "editable": true
   },
   "outputs": [
    {
     "data": {
      "image/png": "[encoded data removed]",
      "text/plain": [
       "<matplotlib.figure.Figure at 0x10f147310>"
      ]
     },
     "metadata": {},
     "output_type": "display_data"
    }
   ],
   "source": [
    "plot_coord(DAPI_df)\n"
   ]
  },
  {
   "cell_type": "code",
   "execution_count": 102,
   "metadata": {
    "collapsed": false,
    "deletable": true,
    "editable": true
   },
   "outputs": [
    {
     "data": {
      "image/png": "[encoded data removed]",
      "text/plain": [
       "<matplotlib.figure.Figure at 0x118c17290>"
      ]
     },
     "metadata": {},
     "output_type": "display_data"
    }
   ],
   "source": [
    "plot_coord(data)"
   ]
  },
  {
   "cell_type": "code",
   "execution_count": null,
   "metadata": {
    "collapsed": false,
    "deletable": true,
    "editable": true
   },
   "outputs": [],
   "source": []
  },
  {
   "cell_type": "code",
   "execution_count": null,
   "metadata": {
    "collapsed": true,
    "deletable": true,
    "editable": true
   },
   "outputs": [],
   "source": []
  }
 ],
 "metadata": {
  "kernelspec": {
   "display_name": "Python 2",
   "language": "python",
   "name": "python2"
  },
  "language_info": {
   "codemirror_mode": {
    "name": "ipython",
    "version": 2
   },
   "file_extension": ".py",
   "mimetype": "text/x-python",
   "name": "python",
   "nbconvert_exporter": "python",
   "pygments_lexer": "ipython2",
   "version": "2.7.10"
  }
 },
 "nbformat": 4,
 "nbformat_minor": 2
}
