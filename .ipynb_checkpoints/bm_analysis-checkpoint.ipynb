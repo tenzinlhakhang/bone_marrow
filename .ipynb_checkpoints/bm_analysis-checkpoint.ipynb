{
 "cells": [
  {
   "cell_type": "code",
   "execution_count": 40,
   "metadata": {
    "collapsed": false,
    "deletable": true,
    "editable": true
   },
   "outputs": [],
   "source": [
    "import pandas as pd\n",
    "import numpy as np\n",
    "from shapely import geometry\n",
    "%matplotlib inline\n",
    "import os\n",
    "from matplotlib import pyplot as plt\n",
    "from skimage.draw import circle\n",
    "\n"
   ]
  },
  {
   "cell_type": "code",
   "execution_count": 41,
   "metadata": {
    "collapsed": false,
    "deletable": true,
    "editable": true
   },
   "outputs": [],
   "source": [
    "# Read file in\n",
    "data = pd.read_table('files/MP-4_[64748,12998]_cell_seg_data.txt')\n",
    "\n",
    "# Split by phenotype\n",
    "CD34_df = data.loc[data['Phenotype'] == 'CD34']\n",
    "CD38_df = data.loc[data['Phenotype'] == 'CD38']\n",
    "CD90_df = data.loc[data['Phenotype'] == 'CD90']\n",
    "DAPI_df = data.loc[data['Phenotype'] == 'DAPI']"
   ]
  },
  {
   "cell_type": "code",
   "execution_count": 94,
   "metadata": {
    "collapsed": false,
    "deletable": true,
    "editable": true
   },
   "outputs": [],
   "source": [
    "# plot coordinates of cells in dataframe\n",
    "def plot_coord(x):\n",
    "    cell_x = x[['Cell X Position']]\n",
    "    cell_y = x[['Cell Y Position']]\n",
    "    phenotype = x[['Phenotype']]\n",
    "\n",
    "    x_list = cell_x['Cell X Position'].tolist()\n",
    "    y_list = cell_y['Cell Y Position'].tolist()\n",
    "    xy_list = zip(x_list,y_list)\n",
    "    \n",
    "    radii = [10]*len(x_list)\n",
    "    img = np.zeros((5000,3000), dtype=np.bool)\n",
    "\n",
    "    for x,y,z in zip(x_list,y_list,radii):\n",
    "        rr, cc = circle(x,y,z)\n",
    "        img[rr,cc] = 1\n",
    "    plt.imshow(img)\n",
    "\n",
    "def point_to_coord(points,circle_buffer,coord_dump):\n",
    "    for point in points:\n",
    "        if point.within(circle_buffer):\n",
    "            #print point,'this point is within:',dapi\n",
    "            coord_array = np.array(point)\n",
    "            coord_list = coord_array.tolist()\n",
    "            coord_dump.append(coord_list)    \n",
    "            \n",
    "# plot coordinates of cells in dataframe\n",
    "def return_xy(x,y):\n",
    "    cell_x = x[['Cell X Position']]\n",
    "    cell_y = x[['Cell Y Position']]\n",
    "    phenotype = x[['Phenotype']]\n",
    "\n",
    "    x_list = cell_x['Cell X Position'].tolist()\n",
    "    y_list = cell_y['Cell Y Position'].tolist()\n",
    "    xy_list = zip(x_list,y_list)\n",
    "    xy_points = [geometry.Point(x) for x in xy_list]\n",
    "    if y == 'points':\n",
    "        return(xy_points)\n",
    "    if y == 'coords':\n",
    "        return(xy_list)"
   ]
  },
  {
   "cell_type": "code",
   "execution_count": 43,
   "metadata": {
    "collapsed": false,
    "deletable": true,
    "editable": true
   },
   "outputs": [
    {
     "data": {
      "image/png": "[encoded data removed]",
      "text/plain": [
       "<matplotlib.figure.Figure at 0x11cefe610>"
      ]
     },
     "metadata": {},
     "output_type": "display_data"
    }
   ],
   "source": [
    "plot_coord(CD34_df)"
   ]
  },
  {
   "cell_type": "code",
   "execution_count": 44,
   "metadata": {
    "collapsed": false,
    "deletable": true,
    "editable": true
   },
   "outputs": [
    {
     "ename": "NameError",
     "evalue": "name 'point_1' is not defined",
     "output_type": "error",
     "traceback": [
      "\u001b[0;31m---------------------------------------------------------------------------\u001b[0m",
      "\u001b[0;31mNameError\u001b[0m                                 Traceback (most recent call last)",
      "\u001b[0;32m<ipython-input-44-7c6d27feadae>\u001b[0m in \u001b[0;36m<module>\u001b[0;34m()\u001b[0m\n\u001b[1;32m      1\u001b[0m \u001b[0mdistance\u001b[0m \u001b[0;34m=\u001b[0m \u001b[0;36m8000\u001b[0m\u001b[0;34m\u001b[0m\u001b[0m\n\u001b[0;32m----> 2\u001b[0;31m \u001b[0mcircle_buffer\u001b[0m \u001b[0;34m=\u001b[0m \u001b[0mpoint_1\u001b[0m\u001b[0;34m.\u001b[0m\u001b[0mbuffer\u001b[0m\u001b[0;34m(\u001b[0m\u001b[0mdistance\u001b[0m\u001b[0;34m)\u001b[0m\u001b[0;34m\u001b[0m\u001b[0m\n\u001b[0m\u001b[1;32m      3\u001b[0m \u001b[0;34m\u001b[0m\u001b[0m\n\u001b[1;32m      4\u001b[0m \u001b[0;32mif\u001b[0m \u001b[0mpoint_2\u001b[0m\u001b[0;34m.\u001b[0m\u001b[0mwithin\u001b[0m\u001b[0;34m(\u001b[0m\u001b[0mcircle_buffer\u001b[0m\u001b[0;34m)\u001b[0m\u001b[0;34m:\u001b[0m\u001b[0;34m\u001b[0m\u001b[0m\n\u001b[1;32m      5\u001b[0m     \u001b[0;32mprint\u001b[0m\u001b[0;34m(\u001b[0m\u001b[0;34m'point 2 is within the distance buffer of point 1'\u001b[0m\u001b[0;34m)\u001b[0m\u001b[0;34m\u001b[0m\u001b[0m\n",
      "\u001b[0;31mNameError\u001b[0m: name 'point_1' is not defined"
     ]
    }
   ],
   "source": [
    "distance = 8000\n",
    "circle_buffer = point_1.buffer(distance)\n",
    "\n",
    "if point_2.within(circle_buffer):\n",
    "    print('point 2 is within the distance buffer of point 1')\n",
    "\n"
   ]
  },
  {
   "cell_type": "code",
   "execution_count": 48,
   "metadata": {
    "collapsed": false,
    "deletable": true,
    "editable": true
   },
   "outputs": [],
   "source": [
    "cd34_points = return_xy(CD34_df,'points')\n",
    "cd38_points = return_xy(CD38_df,'points')\n",
    "cd90_points = return_xy(CD90_df,'points')\n",
    "dapi_points = return_xy(DAPI_df,'points')\n",
    "\n",
    "all_points = return_xy(data,'points')\n",
    "\n",
    "cd90_coords = return_xy(CD90_df,'coords')"
   ]
  },
  {
   "cell_type": "code",
   "execution_count": 99,
   "metadata": {
    "collapsed": false,
    "deletable": true,
    "editable": true,
    "scrolled": false
   },
   "outputs": [],
   "source": [
    "distance = 400\n",
    "\n",
    "\n",
    "lol_what = {}\n",
    "\n",
    "\n",
    "# For each CD90 Cell - Check to see population of cells around it\n",
    "def cell_count(cell_points,dikt_dump):\n",
    "    for cell in cell_points:\n",
    "        # Set circle buffer around cd90 cell\n",
    "        circle_buffer = cell.buffer(distance)\n",
    "        cell_coord = np.array(cell)\n",
    "        test = str(cell_coord)\n",
    "\n",
    "        dapi_cells = []\n",
    "        cd34_cells = []\n",
    "        cd38_cells = []\n",
    "        cd90_cells = []\n",
    "\n",
    "        point_to_coord(dapi_points,circle_buffer,dapi_cells)\n",
    "        point_to_coord(cd34_points,circle_buffer,cd34_cells)\n",
    "        point_to_coord(cd38_points,circle_buffer,cd38_cells)\n",
    "        point_to_coord(cd90_points,circle_buffer,cd90_cells)\n",
    "        \n",
    "        final_value = [len(dapi_cells),len(cd34_cells),len(cd38_cells),len(cd90_cells)]\n",
    "        dikt_dump[test] = final_value\n",
    "\n"
   ]
  },
  {
   "cell_type": "code",
   "execution_count": null,
   "metadata": {
    "collapsed": false,
    "deletable": true,
    "editable": true
   },
   "outputs": [],
   "source": [
    "cell_count(cd38_points,lol_what)"
   ]
  },
  {
   "cell_type": "code",
   "execution_count": null,
   "metadata": {
    "collapsed": false,
    "deletable": true,
    "editable": true
   },
   "outputs": [],
   "source": []
  },
  {
   "cell_type": "code",
   "execution_count": 92,
   "metadata": {
    "collapsed": false,
    "deletable": true,
    "editable": true
   },
   "outputs": [
    {
     "data": {
      "image/png": "[encoded data removed]",
      "text/plain": [
       "<matplotlib.figure.Figure at 0x11de81b10>"
      ]
     },
     "metadata": {},
     "output_type": "display_data"
    }
   ],
   "source": [
    "\n",
    "sns.distplot(np.array(test));"
   ]
  },
  {
   "cell_type": "code",
   "execution_count": 88,
   "metadata": {
    "collapsed": true,
    "deletable": true,
    "editable": true
   },
   "outputs": [],
   "source": [
    "import seaborn as sns"
   ]
  },
  {
   "cell_type": "code",
   "execution_count": null,
   "metadata": {
    "collapsed": true
   },
   "outputs": [],
   "source": []
  }
 ],
 "metadata": {
  "kernelspec": {
   "display_name": "Python 2",
   "language": "python",
   "name": "python2"
  },
  "language_info": {
   "codemirror_mode": {
    "name": "ipython",
    "version": 2
   },
   "file_extension": ".py",
   "mimetype": "text/x-python",
   "name": "python",
   "nbconvert_exporter": "python",
   "pygments_lexer": "ipython2",
   "version": "2.7.10"
  }
 },
 "nbformat": 4,
 "nbformat_minor": 2
}
