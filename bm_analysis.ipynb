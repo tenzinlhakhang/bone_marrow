{
 "cells": [
  {
   "cell_type": "code",
   "execution_count": 1,
   "metadata": {
    "collapsed": false,
    "deletable": true,
    "editable": true
   },
   "outputs": [],
   "source": [
    "import pandas as pd\n",
    "import numpy as np\n",
    "from shapely import geometry\n",
    "%matplotlib inline\n",
    "import os\n",
    "from matplotlib import pyplot as plt\n",
    "from skimage.draw import circle\n",
    "\n"
   ]
  },
  {
   "cell_type": "code",
   "execution_count": 4,
   "metadata": {
    "collapsed": false,
    "deletable": true,
    "editable": true
   },
   "outputs": [],
   "source": [
    "# Read file in\n",
    "data = pd.read_table('files/MP-4_[64748,12998]_cell_seg_data.txt')\n",
    "\n",
    "# Split by phenotype\n",
    "CD34_df = data.loc[data['Phenotype'] == 'CD34']\n",
    "CD38_df = data.loc[data['Phenotype'] == 'CD38']\n",
    "CD90_df = data.loc[data['Phenotype'] == 'CD90']\n",
    "DAPI_df = data.loc[data['Phenotype'] == 'DAPI']"
   ]
  },
  {
   "cell_type": "code",
   "execution_count": 94,
   "metadata": {
    "collapsed": false,
    "deletable": true,
    "editable": true
   },
   "outputs": [],
   "source": [
    "# plot coordinates of cells in dataframe\n",
    "def plot_coord(x):\n",
    "    cell_x = x[['Cell X Position']]\n",
    "    cell_y = x[['Cell Y Position']]\n",
    "    phenotype = x[['Phenotype']]\n",
    "\n",
    "    x_list = cell_x['Cell X Position'].tolist()\n",
    "    y_list = cell_y['Cell Y Position'].tolist()\n",
    "    xy_list = zip(x_list,y_list)\n",
    "    \n",
    "    radii = [10]*len(x_list)\n",
    "    img = np.zeros((5000,3000), dtype=np.bool)\n",
    "\n",
    "    for x,y,z in zip(x_list,y_list,radii):\n",
    "        rr, cc = circle(x,y,z)\n",
    "        img[rr,cc] = 1\n",
    "    plt.imshow(img)\n",
    "    \n",
    "# Convert shapely point object to coordinates\n",
    "def point_to_coord(points,circle_buffer,coord_dump):\n",
    "    for point in points:\n",
    "        if point.within(circle_buffer):\n",
    "            #print point,'this point is within:',dapi\n",
    "            coord_array = np.array(point)\n",
    "            coord_list = coord_array.tolist()\n",
    "            coord_dump.append(coord_list)    \n",
    "            \n",
    "# Plot coordinates of cells in dataframe\n",
    "def return_xy(x,y):\n",
    "    cell_x = x[['Cell X Position']]\n",
    "    cell_y = x[['Cell Y Position']]\n",
    "    phenotype = x[['Phenotype']]\n",
    "\n",
    "    x_list = cell_x['Cell X Position'].tolist()\n",
    "    y_list = cell_y['Cell Y Position'].tolist()\n",
    "    xy_list = zip(x_list,y_list)\n",
    "    xy_points = [geometry.Point(x) for x in xy_list]\n",
    "    if y == 'points':\n",
    "        return(xy_points)\n",
    "    if y == 'coords':\n",
    "        return(xy_list)\n",
    "\n",
    "# For each CD90 Cell - Check to see population of cells around it\n",
    "def cell_count(cell_points,dikt_dump,distance):\n",
    "    for cell in cell_points:\n",
    "        # Set circle buffer around each specific cell type\n",
    "        distance = distance\n",
    "        circle_buffer = cell.buffer(distance)\n",
    "        cell_coord = np.array(cell)\n",
    "        test = str(cell_coord)\n",
    "\n",
    "        dapi_cells = []\n",
    "        cd34_cells = []\n",
    "        cd38_cells = []\n",
    "        cd90_cells = []\n",
    "\n",
    "        point_to_coord(dapi_points,circle_buffer,dapi_cells)\n",
    "        point_to_coord(cd34_points,circle_buffer,cd34_cells)\n",
    "        point_to_coord(cd38_points,circle_buffer,cd38_cells)\n",
    "        point_to_coord(cd90_points,circle_buffer,cd90_cells)\n",
    "        \n",
    "        final_value = [len(dapi_cells),len(cd34_cells),len(cd38_cells),len(cd90_cells)]\n",
    "        dikt_dump[test] = final_value\n",
    "\n"
   ]
  },
  {
   "cell_type": "code",
   "execution_count": 208,
   "metadata": {
    "collapsed": false,
    "deletable": true,
    "editable": true
   },
   "outputs": [
    {
     "data": {
      "text/plain": [
       "269"
      ]
     },
     "execution_count": 208,
     "metadata": {},
     "output_type": "execute_result"
    }
   ],
   "source": [
    "len(CD38_df)"
   ]
  },
  {
   "cell_type": "code",
   "execution_count": 205,
   "metadata": {
    "collapsed": false,
    "deletable": true,
    "editable": true
   },
   "outputs": [
    {
     "data": {
      "text/plain": [
       "31"
      ]
     },
     "execution_count": 205,
     "metadata": {},
     "output_type": "execute_result"
    }
   ],
   "source": []
  },
  {
   "cell_type": "code",
   "execution_count": 400,
   "metadata": {
    "collapsed": false,
    "deletable": true,
    "editable": true
   },
   "outputs": [],
   "source": [
    "cd34_points = return_xy(CD34_df,'points')\n",
    "cd38_points = return_xy(CD38_df,'points')\n",
    "cd90_points = return_xy(CD90_df,'points')\n",
    "dapi_points = return_xy(DAPI_df,'points')\n",
    "\n",
    "all_points = return_xy(data,'points')\n",
    "\n",
    "cd90_coords = return_xy(CD90_df,'coords')"
   ]
  },
  {
   "cell_type": "code",
   "execution_count": null,
   "metadata": {
    "collapsed": false,
    "deletable": true,
    "editable": true,
    "scrolled": false
   },
   "outputs": [],
   "source": []
  },
  {
   "cell_type": "code",
   "execution_count": 190,
   "metadata": {
    "collapsed": false,
    "deletable": true,
    "editable": true
   },
   "outputs": [],
   "source": [
    "cell_count(cd38_points,lol_what,300)"
   ]
  },
  {
   "cell_type": "code",
   "execution_count": 133,
   "metadata": {
    "collapsed": false,
    "deletable": true,
    "editable": true
   },
   "outputs": [],
   "source": [
    "dapi_num = [values[0] for values in lol_what.values()]\n",
    "cd34_num = [values[1] for values in lol_what.values()]\n",
    "cd38_num = [values[2] for values in lol_what.values()]\n",
    "cd90_num = [values[3] for values in lol_what.values()]\n"
   ]
  },
  {
   "cell_type": "code",
   "execution_count": null,
   "metadata": {
    "collapsed": false,
    "deletable": true,
    "editable": true
   },
   "outputs": [],
   "source": []
  },
  {
   "cell_type": "code",
   "execution_count": null,
   "metadata": {
    "collapsed": false,
    "deletable": true,
    "editable": true
   },
   "outputs": [],
   "source": []
  },
  {
   "cell_type": "code",
   "execution_count": 210,
   "metadata": {
    "collapsed": false,
    "deletable": true,
    "editable": true
   },
   "outputs": [
    {
     "data": {
      "image/png": "[encoded data removed]",
      "text/plain": [
       "<matplotlib.figure.Figure at 0x1155ded50>"
      ]
     },
     "metadata": {},
     "output_type": "display_data"
    }
   ],
   "source": [
    "\n",
    "sns.distplot(dapi_num, hist=False, rug=False)\n",
    "sns.distplot(cd34_num, hist=False, rug=False)\n",
    "sns.distplot(cd38_num, hist=False, rug=False)\n",
    "sns.distplot(cd90_num, hist=True, rug=True)\n",
    "sns.plt.show()\n"
   ]
  },
  {
   "cell_type": "code",
   "execution_count": null,
   "metadata": {
    "collapsed": false,
    "deletable": true,
    "editable": true
   },
   "outputs": [],
   "source": []
  },
  {
   "cell_type": "code",
   "execution_count": 74,
   "metadata": {
    "collapsed": false,
    "deletable": true,
    "editable": true
   },
   "outputs": [],
   "source": [
    "import pandas as pd\n",
    "import numpy as np\n",
    "from shapely import geometry\n",
    "%matplotlib inline\n",
    "import os\n",
    "from matplotlib import pyplot as plt\n",
    "from skimage.draw import circle\n",
    "import seaborn as sns\n",
    "\n",
    "class Point:\n",
    "    \"\"\" Point class for representing and manipulating x,y coordinates. \"\"\"\n",
    "\n",
    "    def __init__(self, data):\n",
    "        \"\"\" Create a new point at the given coordinates. \"\"\"\n",
    "        self.x = data\n",
    "        #self.y = \n",
    "        #cell types include: DAPI, CD34, CD38, CD90, ALL\n",
    "        #self.y = cell_type\n",
    "\n",
    "    def plot_cell(self,cell,poordinates):\n",
    "        \n",
    "        \n",
    "        img = np.zeros((5000,3000), dtype=np.bool)\n",
    "        \n",
    "        xy_list = self.point_or_coord(cell,poordinates)\n",
    "        radii = [8]*len(xy_list)\n",
    "\n",
    "        for x,z in zip(xy_list,radii):\n",
    "            rr, cc = circle(x[0],x[1],z)\n",
    "            img[rr,cc] = 1\n",
    "        print 'Number of %s Cells: %s' %(cell,len(xy_list))\n",
    "        plt.imshow(img)\n",
    "            \n",
    "    def point_or_coord(self,cell,poordinates):\n",
    "        \n",
    "        if cell == 'ALL':\n",
    "            cell_type = self.x\n",
    "        else:\n",
    "            cell_type = self.x.loc[data['Phenotype'] == cell]\n",
    "       \n",
    "        cell_x = cell_type[['Cell X Position']]\n",
    "        cell_y = cell_type[['Cell Y Position']]\n",
    "        phenotype = cell_type[['Phenotype']]\n",
    "        \n",
    "        x_list = cell_x['Cell X Position'].tolist()\n",
    "        y_list = cell_y['Cell Y Position'].tolist()\n",
    "        xy_list = zip(x_list,y_list)\n",
    "\n",
    "        xy_points = [geometry.Point(x) for x in xy_list]\n",
    "        if poordinates == 'points':\n",
    "            return(xy_points)\n",
    "        if poordinates == 'coords':\n",
    "            return(xy_list)\n",
    "\n",
    "    \n",
    "    def test(self,points,circle_buffer,coord_dump):\n",
    "        for point in points:\n",
    "            if point.within(circle_buffer):\n",
    "                #print point,'this point is within:',dapi\n",
    "                coord_array = np.array(point)\n",
    "                coord_list = coord_array.tolist()\n",
    "                coord_dump.append(coord_list)\n",
    "    \n",
    "    \n",
    "    def cell_count(self,cell,poordinates,distance):\n",
    "        cell_counts = {}\n",
    "        \n",
    "        # Get points of Cell to Analyze \n",
    "        cell_to_analyze = self.point_or_coord(cell,poordinates)\n",
    "        \n",
    "        # Get points of all various cells of different phenotypes\n",
    "        DAPI_cells = self.point_or_coord('DAPI','points')\n",
    "        CD34_cells = self.point_or_coord('CD34','points')\n",
    "        CD38_cells = self.point_or_coord('CD38','points')\n",
    "        CD90_cells = self.point_or_coord('CD90','points')\n",
    "        \n",
    "        for cell in cell_to_analyze:\n",
    "            # Set circle buffer around each specific cell type\n",
    "            distance = distance\n",
    "            circle_buffer = cell.buffer(distance)\n",
    "            cell_coord = np.array(cell)\n",
    "            cell_key = str(cell_coord)\n",
    "\n",
    "            dapi_cells = []\n",
    "            cd34_cells = []\n",
    "            cd38_cells = []\n",
    "            cd90_cells = []\n",
    "            \n",
    "            #return(len(DAPI_cells),circle_buffer,dapi_cells)\n",
    "            self.test(DAPI_cells,circle_buffer,dapi_cells)\n",
    "            self.test(CD34_cells,circle_buffer,cd34_cells)\n",
    "            self.test(CD38_cells,circle_buffer,cd38_cells)\n",
    "            self.test(CD90_cells,circle_buffer,cd90_cells)\n",
    "\n",
    "            final_value = [len(dapi_cells),len(cd34_cells),len(cd38_cells),len(cd90_cells)]\n",
    "            cell_counts[cell_key] = final_value\n",
    "        \n",
    "        \n",
    "        dapi_num = [values[0] for values in cell_counts.values()]\n",
    "        cd34_num = [values[1] for values in cell_counts.values()]\n",
    "        cd38_num = [values[2] for values in cell_counts.values()]\n",
    "        cd90_num = [values[3] for values in cell_counts.values()]\n",
    "\n",
    "        return(dapi_num,cd34_num,cd38_num,cd90_num)\n",
    "        \n",
    "    def distribution_plot(dapi,cd34,cd38):\n",
    "\n",
    "        sns.distplot(dapi, hist=False, rug=False)\n",
    "        sns.distplot(cd34, hist=False, rug=False)\n",
    "        sns.distplot(cd38, hist=False, rug=False)\n",
    "        #sns.distplot(cd90_num, hist=False, rug=False)\n",
    "        sns.plt.show()"
   ]
  },
  {
   "cell_type": "code",
   "execution_count": 75,
   "metadata": {
    "collapsed": false,
    "deletable": true,
    "editable": true
   },
   "outputs": [],
   "source": [
    "image = Point(data)"
   ]
  },
  {
   "cell_type": "code",
   "execution_count": 70,
   "metadata": {
    "collapsed": false,
    "deletable": true,
    "editable": true
   },
   "outputs": [],
   "source": [
    "test = image.cell_count('CD38','points',300)"
   ]
  },
  {
   "cell_type": "code",
   "execution_count": 85,
   "metadata": {
    "collapsed": false,
    "deletable": true,
    "editable": true
   },
   "outputs": [
    {
     "data": {
      "text/plain": [
       "<matplotlib.axes._subplots.AxesSubplot at 0x10a469910>"
      ]
     },
     "execution_count": 85,
     "metadata": {},
     "output_type": "execute_result"
    },
    {
     "data": {
      "image/png": "[encoded data removed]",
      "text/plain": [
       "<matplotlib.figure.Figure at 0x10a48bd90>"
      ]
     },
     "metadata": {},
     "output_type": "display_data"
    }
   ],
   "source": [
    "sns.distplot(test[0],hist=False,rug=False)"
   ]
  },
  {
   "cell_type": "code",
   "execution_count": 55,
   "metadata": {
    "collapsed": false,
    "deletable": true,
    "editable": true
   },
   "outputs": [
    {
     "name": "stdout",
     "output_type": "stream",
     "text": [
      "Number of ALL Cells: 7476\n"
     ]
    },
    {
     "data": {
      "image/png": "[encoded data removed]",
      "text/plain": [
       "<matplotlib.figure.Figure at 0x10d16f7d0>"
      ]
     },
     "metadata": {},
     "output_type": "display_data"
    }
   ],
   "source": [
    "image.plot_cell(cell='ALL',poordinates='coords')"
   ]
  },
  {
   "cell_type": "code",
   "execution_count": null,
   "metadata": {
    "collapsed": true,
    "deletable": true,
    "editable": true
   },
   "outputs": [],
   "source": []
  }
 ],
 "metadata": {
  "kernelspec": {
   "display_name": "Python 2",
   "language": "python",
   "name": "python2"
  },
  "language_info": {
   "codemirror_mode": {
    "name": "ipython",
    "version": 2
   },
   "file_extension": ".py",
   "mimetype": "text/x-python",
   "name": "python",
   "nbconvert_exporter": "python",
   "pygments_lexer": "ipython2",
   "version": "2.7.10"
  }
 },
 "nbformat": 4,
 "nbformat_minor": 2
}
