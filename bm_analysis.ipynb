{
 "cells": [
  {
   "cell_type": "code",
   "execution_count": 29,
   "metadata": {
    "collapsed": false,
    "deletable": true,
    "editable": true
   },
   "outputs": [],
   "source": [
    "import pandas as pd\n",
    "import numpy as np\n",
    "from shapely import geometry\n",
    "%matplotlib inline\n",
    "from matplotlib import pyplot as plt\n",
    "from skimage.draw import circle\n",
    "from shapely import geometry\n",
    "import os\n",
    "from skimage.draw import circle_perimeter\n",
    "import seaborn as sns\n",
    "import plotly.plotly as py\n",
    "from plotly import __version__\n",
    "from plotly.offline import download_plotlyjs, init_notebook_mode, plot, iplot\n",
    "import plotly.graph_objs as go\n",
    "\n"
   ]
  },
  {
   "cell_type": "code",
   "execution_count": null,
   "metadata": {
    "collapsed": false,
    "deletable": true,
    "editable": true
   },
   "outputs": [],
   "source": []
  },
  {
   "cell_type": "code",
   "execution_count": 66,
   "metadata": {
    "collapsed": false,
    "deletable": true,
    "editable": true
   },
   "outputs": [],
   "source": [
    "class Point:\n",
    "    \"\"\" Point class for representing and manipulating x,y coordinates. \"\"\"\n",
    "\n",
    "    def __init__(self, data):\n",
    "        \"\"\" Create a new point at the given coordinates. \"\"\"\n",
    "        self.x = data\n",
    "        #self.y = \n",
    "        #cell types include: DAPI, CD34, CD38, CD90, ALL\n",
    "        #self.y = cell_type\n",
    "\n",
    "    def plot_cell(self,cell,poordinates):\n",
    "        \n",
    "        \n",
    "        img = np.zeros((4500,3500), dtype=np.bool)\n",
    "        \n",
    "        xy_list = self.point_or_coord(cell,poordinates)\n",
    "        radii = [8]*len(xy_list)\n",
    "\n",
    "        for x,z in zip(xy_list,radii):\n",
    "            rr, cc = circle(x[0],x[1],z)\n",
    "            img[rr,cc] = 1\n",
    "            #rr, cc = circle_perimeter(x[0], x[1], 500)\n",
    "            #img[rr, cc] = 1\n",
    "        \n",
    "        print 'Number of %s Cells: %s' %(cell,len(xy_list))\n",
    "        plt.imshow(img)\n",
    "    \n",
    "    def test(self,points,circle_buffer,coord_dump):\n",
    "        for point in points:\n",
    "            if point.within(circle_buffer):\n",
    "                #print point,'this point is within:',dapi\n",
    "                coord_array = np.array(point)\n",
    "                coord_list = coord_array.tolist()\n",
    "                coord_dump.append(coord_list)\n",
    "\n",
    "    def point_or_coord(self,cell,poordinates):\n",
    "        \n",
    "        if cell == 'ALL':\n",
    "            cell_type = self.x\n",
    "        else:\n",
    "            cell_type = self.x.loc[data['Phenotype'] == cell]\n",
    "        cell_x = cell_type[['Cell X Position']]\n",
    "        cell_y = cell_type[['Cell Y Position']]\n",
    "        phenotype = cell_type[['Phenotype']]\n",
    "        \n",
    "        x_list = cell_x['Cell X Position'].tolist()\n",
    "        y_list = cell_y['Cell Y Position'].tolist()\n",
    "        xy_list = zip(x_list,y_list)\n",
    "\n",
    "        xy_points = [geometry.Point(x) for x in xy_list]\n",
    "        if poordinates == 'points':\n",
    "            return(xy_points)\n",
    "        if poordinates == 'coords':\n",
    "            return(xy_list)\n",
    "    \n",
    "    def cell_count(self,cell,poordinates,distance,specific):\n",
    "        cell_counts = {}\n",
    "        \n",
    "        # Get points of Cell to Analyze \n",
    "        cell_to_analyze = self.point_or_coord(cell,poordinates)\n",
    "        \n",
    "        # Get points of all various cells of different phenotypes\n",
    "        DAPI_cells = self.point_or_coord('DAPI','points')\n",
    "        CD34_cells = self.point_or_coord('CD34','points')\n",
    "        CD38_cells = self.point_or_coord('CD38','points')\n",
    "        CD90_cells = self.point_or_coord('CD90','points')\n",
    "        \n",
    "        for cell in cell_to_analyze:\n",
    "            # Set circle buffer around each specific cell type\n",
    "            distance = distance\n",
    "            circle_buffer = cell.buffer(distance)\n",
    "            cell_coord = np.array(cell)\n",
    "            cell_key = str(cell_coord)\n",
    "\n",
    "            dapi_cells = []\n",
    "            cd34_cells = []\n",
    "            cd38_cells = []\n",
    "            cd90_cells = []\n",
    "            \n",
    "            #return(len(DAPI_cells),circle_buffer,dapi_cells)\n",
    "            self.test(DAPI_cells,circle_buffer,dapi_cells)\n",
    "            self.test(CD34_cells,circle_buffer,cd34_cells)\n",
    "            self.test(CD38_cells,circle_buffer,cd38_cells)\n",
    "            self.test(CD90_cells,circle_buffer,cd90_cells)\n",
    "\n",
    "            final_value = [len(dapi_cells),len(cd34_cells),len(cd38_cells),len(cd90_cells)]\n",
    "            cell_counts[cell_key] = final_value\n",
    "            \n",
    "        final_cell_counts = {}\n",
    "        for key, value in cd34_counts.items():\n",
    "            List1 = value\n",
    "            List2 = [0,1,0,0]\n",
    "            subtracted = [x1 - x2 for (x1, x2) in zip(List1, List2)]\n",
    "            final_cell_counts[key] = subtracted\n",
    "\n",
    "        return(final_cell_counts)\n",
    "        \n",
    "    def dist_plot(self,cell,poordinates,distance,specific):\n",
    "        \n",
    "        cell_counts = self.cell_count(cell,poordinates,distance,specific)\n",
    "        \n",
    "        dapi_num = [values[0] for values in cell_counts.values()]\n",
    "        cd34_num = [values[1] for values in cell_counts.values()]\n",
    "        cd38_num = [values[2] for values in cell_counts.values()]\n",
    "        cd90_num = [values[3] for values in cell_counts.values()]\n",
    "        \n",
    "        if specific == 'DAPI':\n",
    "            sns.distplot(dapi_num, hist=False, rug=False,label='DAPI')\n",
    "            sns.plt.show()\n",
    "        if specific == 'CD34':\n",
    "            sns.distplot(cd34_num, hist=False, rug=False,label='CD34')\n",
    "            sns.plt.show()\n",
    "        if specific == 'CD38':\n",
    "            sns.distplot(cd38_num, hist=False, rug=False,label='CD38')\n",
    "            sns.plt.show()\n",
    "        if specific == 'ALL':\n",
    "            sns.distplot(dapi_num, hist=False, rug=False,label='DAPI')\n",
    "            sns.distplot(cd34_num, hist=False, rug=False,label='CD34')\n",
    "            #sns.distplot(cd38_num, hist=False, rug=False,label='CD38')\n",
    "            sns.plt.show()\n",
    "        \n",
    "        #return(cell_counts)\n",
    "    \n",
    "    def density_plot(self,cell,poordinates,distance,specific):\n",
    "        \n",
    "        cell_counts = self.cell_count(cell,poordinates,distance,specific)\n",
    "        \n",
    "        \n",
    "        def get_density(final_counts,threshold,threshold_2):\n",
    "            less_10 = [final_counts[x] for x in final_counts if sum(final_counts[x]) > threshold and sum(final_counts[x]) <= threshold_2]\n",
    "            dapi_less_10 = np.average([x[0] for x in less_10])\n",
    "            cd34_less_10 = np.average([x[1] for x in less_10])\n",
    "            cd38_less_10 = np.average([x[2] for x in less_10])\n",
    "            cd90_less_10 = np.average([x[3] for x in less_10])\n",
    "            total = dapi_less_10 + cd34_less_10 + cd38_less_10 + cd90_less_10\n",
    "            #print total\n",
    "            label = threshold_2\n",
    "            total_value = 1\n",
    "            dapi_percent = (dapi_less_10/total)*100\n",
    "            cd34_percent = (cd34_less_10/total)*100\n",
    "            cd38_percent = (cd38_less_10/total)*100\n",
    "            cd90_percent = (cd90_less_10/total)*100\n",
    "            \n",
    "            combined = (label,total_value,dapi_percent,cd34_percent,cd38_percent,cd90_percent)\n",
    "            cell_densities.append(combined)\n",
    "        \n",
    "        cell_densities = []\n",
    "        get_density(cell_counts,0,10)\n",
    "        get_density(cell_counts,10,20)\n",
    "        get_density(cell_counts,20,30)\n",
    "        get_density(cell_counts,30,40)\n",
    "        get_density(cell_counts,40,50)\n",
    "        get_density(cell_counts,50,60)\n",
    "        \n",
    "        \n",
    "        df=pd.DataFrame(cell_densities,columns=['label','total','dapi','cd34','cd38','cd90'])\n",
    "\n",
    "        init_notebook_mode(connected=True)\n",
    "        labels = df[\"label\"].tolist()\n",
    "        dapi_plot = df[['dapi']]\n",
    "        cd34_plot = df[['cd34']]\n",
    "        cd38_plot = df[['cd38']]\n",
    "        cd90_plot = df[['cd90']]\n",
    "\n",
    "        trace1 = go.Bar(\n",
    "            x=labels,\n",
    "            y=dapi_plot['dapi'].tolist(),\n",
    "            name='DAPI'\n",
    "        )\n",
    "        trace2 = go.Bar(\n",
    "            x=labels,\n",
    "            y=cd34_plot['cd34'].tolist(),\n",
    "            name='CD34'\n",
    "        )\n",
    "        trace3 = go.Bar(\n",
    "            x=labels,\n",
    "            y=cd38_plot['cd38'].tolist(),\n",
    "            name='CD38'\n",
    "        )\n",
    "        trace4 = go.Bar(\n",
    "            x=labels,\n",
    "            y=cd90_plot['cd90'].tolist(),\n",
    "            name='CD90'\n",
    "        )\n",
    "\n",
    "        data = [trace1, trace2, trace3, trace4]\n",
    "        layout = go.Layout(\n",
    "            barmode='stack',title = \"% of Cells Around CD34 Cell vs. Distance\"\n",
    "        )\n",
    "        import plotly.offline as offline\n",
    "\n",
    "        fig = go.Figure(data=data, layout=layout)\n",
    "        offline.plot(fig, filename='bar-colorscale')\n",
    "\n",
    "\n"
   ]
  },
  {
   "cell_type": "code",
   "execution_count": 67,
   "metadata": {
    "collapsed": false,
    "deletable": true,
    "editable": true
   },
   "outputs": [],
   "source": [
    "# Read file in and create Point class \n",
    "data = pd.read_table('files/MP-4_[64748,12998]_cell_seg_data.txt')\n",
    "image = Point(data)"
   ]
  },
  {
   "cell_type": "code",
   "execution_count": 52,
   "metadata": {
    "collapsed": false,
    "deletable": true,
    "editable": true
   },
   "outputs": [
    {
     "name": "stdout",
     "output_type": "stream",
     "text": [
      "Number of CD34 Cells: 4667\n"
     ]
    },
    {
     "data": {
      "image/png": "[encoded data removed]",
      "text/plain": [
       "<matplotlib.figure.Figure at 0x111679b10>"
      ]
     },
     "metadata": {},
     "output_type": "display_data"
    }
   ],
   "source": [
    "image.plot_cell('CD34',poordinates='coords')"
   ]
  },
  {
   "cell_type": "code",
   "execution_count": 53,
   "metadata": {
    "collapsed": false,
    "deletable": true,
    "editable": true
   },
   "outputs": [
    {
     "name": "stdout",
     "output_type": "stream",
     "text": [
      "Number of DAPI Cells: 2538\n"
     ]
    },
    {
     "data": {
      "image/png": "[encoded data removed]",
      "text/plain": [
       "<matplotlib.figure.Figure at 0x111da5dd0>"
      ]
     },
     "metadata": {},
     "output_type": "display_data"
    }
   ],
   "source": [
    "image.plot_cell('DAPI',poordinates='coords')"
   ]
  },
  {
   "cell_type": "code",
   "execution_count": 54,
   "metadata": {
    "collapsed": false,
    "deletable": true,
    "editable": true,
    "scrolled": false
   },
   "outputs": [
    {
     "name": "stdout",
     "output_type": "stream",
     "text": [
      "Number of CD38 Cells: 269\n"
     ]
    },
    {
     "data": {
      "image/png": "[encoded data removed]",
      "text/plain": [
       "<matplotlib.figure.Figure at 0x111da7950>"
      ]
     },
     "metadata": {},
     "output_type": "display_data"
    }
   ],
   "source": [
    "image.plot_cell('CD38',poordinates='coords')"
   ]
  },
  {
   "cell_type": "code",
   "execution_count": 56,
   "metadata": {
    "collapsed": false,
    "deletable": true,
    "editable": true
   },
   "outputs": [
    {
     "name": "stdout",
     "output_type": "stream",
     "text": [
      "Number of ALL Cells: 7476\n"
     ]
    },
    {
     "data": {
      "image/png": "[encoded data removed]",
      "text/plain": [
       "<matplotlib.figure.Figure at 0x10ba0e050>"
      ]
     },
     "metadata": {},
     "output_type": "display_data"
    }
   ],
   "source": [
    "image.plot_cell('ALL',poordinates='coords')"
   ]
  },
  {
   "cell_type": "code",
   "execution_count": 68,
   "metadata": {
    "collapsed": false,
    "deletable": true,
    "editable": true,
    "scrolled": true
   },
   "outputs": [
    {
     "data": {
      "image/png": "[encoded data removed]",
      "text/plain": [
       "<matplotlib.figure.Figure at 0x10ee5eb10>"
      ]
     },
     "metadata": {},
     "output_type": "display_data"
    }
   ],
   "source": [
    "image.dist_plot(cell='CD38',distance=100,poordinates='points',specific='ALL')"
   ]
  },
  {
   "cell_type": "code",
   "execution_count": 101,
   "metadata": {
    "collapsed": false,
    "deletable": true,
    "editable": true
   },
   "outputs": [],
   "source": []
  },
  {
   "cell_type": "code",
   "execution_count": null,
   "metadata": {
    "collapsed": false,
    "deletable": true,
    "editable": true
   },
   "outputs": [],
   "source": []
  },
  {
   "cell_type": "code",
   "execution_count": 59,
   "metadata": {
    "collapsed": false,
    "deletable": true,
    "editable": true,
    "scrolled": true
   },
   "outputs": [],
   "source": []
  },
  {
   "cell_type": "code",
   "execution_count": 68,
   "metadata": {
    "collapsed": false,
    "deletable": true,
    "editable": true
   },
   "outputs": [],
   "source": []
  },
  {
   "cell_type": "code",
   "execution_count": 69,
   "metadata": {
    "collapsed": false,
    "deletable": true,
    "editable": true
   },
   "outputs": [],
   "source": []
  },
  {
   "cell_type": "code",
   "execution_count": 88,
   "metadata": {
    "collapsed": false,
    "deletable": true,
    "editable": true
   },
   "outputs": [],
   "source": []
  },
  {
   "cell_type": "code",
   "execution_count": null,
   "metadata": {
    "collapsed": false,
    "deletable": true,
    "editable": true,
    "scrolled": false
   },
   "outputs": [],
   "source": []
  },
  {
   "cell_type": "code",
   "execution_count": null,
   "metadata": {
    "collapsed": false,
    "deletable": true,
    "editable": true,
    "scrolled": false
   },
   "outputs": [],
   "source": []
  },
  {
   "cell_type": "code",
   "execution_count": null,
   "metadata": {
    "collapsed": false,
    "deletable": true,
    "editable": true,
    "scrolled": true
   },
   "outputs": [],
   "source": []
  },
  {
   "cell_type": "code",
   "execution_count": null,
   "metadata": {
    "collapsed": false,
    "deletable": true,
    "editable": true,
    "scrolled": true
   },
   "outputs": [],
   "source": []
  },
  {
   "cell_type": "code",
   "execution_count": 28,
   "metadata": {
    "collapsed": false,
    "deletable": true,
    "editable": true,
    "scrolled": true
   },
   "outputs": [],
   "source": []
  },
  {
   "cell_type": "code",
   "execution_count": null,
   "metadata": {
    "collapsed": false,
    "deletable": true,
    "editable": true,
    "scrolled": true
   },
   "outputs": [],
   "source": []
  },
  {
   "cell_type": "code",
   "execution_count": null,
   "metadata": {
    "collapsed": false,
    "deletable": true,
    "editable": true,
    "scrolled": true
   },
   "outputs": [],
   "source": []
  },
  {
   "cell_type": "code",
   "execution_count": null,
   "metadata": {
    "collapsed": false,
    "deletable": true,
    "editable": true,
    "scrolled": true
   },
   "outputs": [],
   "source": []
  },
  {
   "cell_type": "code",
   "execution_count": null,
   "metadata": {
    "collapsed": false,
    "deletable": true,
    "editable": true
   },
   "outputs": [],
   "source": []
  },
  {
   "cell_type": "code",
   "execution_count": null,
   "metadata": {
    "collapsed": false,
    "deletable": true,
    "editable": true
   },
   "outputs": [],
   "source": []
  },
  {
   "cell_type": "code",
   "execution_count": null,
   "metadata": {
    "collapsed": false,
    "deletable": true,
    "editable": true
   },
   "outputs": [],
   "source": []
  },
  {
   "cell_type": "code",
   "execution_count": null,
   "metadata": {
    "collapsed": false,
    "deletable": true,
    "editable": true
   },
   "outputs": [],
   "source": []
  },
  {
   "cell_type": "code",
   "execution_count": null,
   "metadata": {
    "collapsed": false,
    "deletable": true,
    "editable": true
   },
   "outputs": [],
   "source": []
  },
  {
   "cell_type": "code",
   "execution_count": null,
   "metadata": {
    "collapsed": false,
    "deletable": true,
    "editable": true
   },
   "outputs": [],
   "source": []
  },
  {
   "cell_type": "code",
   "execution_count": null,
   "metadata": {
    "collapsed": false,
    "deletable": true,
    "editable": true
   },
   "outputs": [],
   "source": []
  },
  {
   "cell_type": "code",
   "execution_count": null,
   "metadata": {
    "collapsed": false,
    "deletable": true,
    "editable": true
   },
   "outputs": [],
   "source": []
  },
  {
   "cell_type": "code",
   "execution_count": null,
   "metadata": {
    "collapsed": false,
    "deletable": true,
    "editable": true
   },
   "outputs": [],
   "source": []
  },
  {
   "cell_type": "code",
   "execution_count": null,
   "metadata": {
    "collapsed": false,
    "deletable": true,
    "editable": true
   },
   "outputs": [],
   "source": []
  },
  {
   "cell_type": "code",
   "execution_count": null,
   "metadata": {
    "collapsed": false,
    "deletable": true,
    "editable": true
   },
   "outputs": [],
   "source": []
  },
  {
   "cell_type": "code",
   "execution_count": null,
   "metadata": {
    "collapsed": false,
    "deletable": true,
    "editable": true
   },
   "outputs": [],
   "source": []
  },
  {
   "cell_type": "code",
   "execution_count": null,
   "metadata": {
    "collapsed": false,
    "deletable": true,
    "editable": true
   },
   "outputs": [],
   "source": []
  },
  {
   "cell_type": "code",
   "execution_count": null,
   "metadata": {
    "collapsed": true,
    "deletable": true,
    "editable": true
   },
   "outputs": [],
   "source": []
  }
 ],
 "metadata": {
  "kernelspec": {
   "display_name": "Python 2",
   "language": "python",
   "name": "python2"
  },
  "language_info": {
   "codemirror_mode": {
    "name": "ipython",
    "version": 2
   },
   "file_extension": ".py",
   "mimetype": "text/x-python",
   "name": "python",
   "nbconvert_exporter": "python",
   "pygments_lexer": "ipython2",
   "version": "2.7.6"
  }
 },
 "nbformat": 4,
 "nbformat_minor": 2
}
